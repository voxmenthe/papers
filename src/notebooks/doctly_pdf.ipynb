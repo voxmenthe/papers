{
 "cells": [
  {
   "cell_type": "code",
   "execution_count": 6,
   "id": "ba129283",
   "metadata": {},
   "outputs": [],
   "source": [
    "import os\n",
    "import doctly\n",
    "\n",
    "DOCTLY_API_KEY = os.environ.get('DOCTLY_API_KEY')"
   ]
  },
  {
   "cell_type": "code",
   "execution_count": 7,
   "id": "b4399c9b",
   "metadata": {},
   "outputs": [],
   "source": [
    "#!ls -lt /Volumes/bdrive/AA_TO_UPLOAD/"
   ]
  },
  {
   "cell_type": "code",
   "execution_count": 12,
   "id": "bdb78287",
   "metadata": {},
   "outputs": [
    {
     "name": "stdout",
     "output_type": "stream",
     "text": [
      "ReasonfromFuture-ReverseThoughtChainEnhancesLLMReasoning2506.03673v1.pdf\n"
     ]
    }
   ],
   "source": [
    "!ls ../papers/cot/"
   ]
  },
  {
   "cell_type": "code",
   "execution_count": 13,
   "id": "6c134c7f",
   "metadata": {},
   "outputs": [
    {
     "ename": "DoctlyError",
     "evalue": "Error uploading file: {\"detail\":\"Could not validate credentials\"}",
     "output_type": "error",
     "traceback": [
      "\u001b[31m---------------------------------------------------------------------------\u001b[39m",
      "\u001b[31mDoctlyError\u001b[39m                               Traceback (most recent call last)",
      "\u001b[36mCell\u001b[39m\u001b[36m \u001b[39m\u001b[32mIn[13]\u001b[39m\u001b[32m, line 5\u001b[39m\n\u001b[32m      2\u001b[39m client = doctly.Client(api_key=DOCTLY_API_KEY)\n\u001b[32m      4\u001b[39m \u001b[38;5;66;03m# Convert a PDF file to Markdown\u001b[39;00m\n\u001b[32m----> \u001b[39m\u001b[32m5\u001b[39m content = \u001b[43mclient\u001b[49m\u001b[43m.\u001b[49m\u001b[43mprocess\u001b[49m\u001b[43m(\u001b[49m\u001b[33;43m'\u001b[39;49m\u001b[33;43m../papers/cot/ReasonfromFuture-ReverseThoughtChainEnhancesLLMReasoning2506.03673v1.pdf\u001b[39;49m\u001b[33;43m'\u001b[39;49m\u001b[43m)\u001b[49m\n\u001b[32m      6\u001b[39m \u001b[38;5;28mprint\u001b[39m(content)\n",
      "\u001b[36mFile \u001b[39m\u001b[32m~/venvs/papers/lib/python3.13/site-packages/doctly/client.py:72\u001b[39m, in \u001b[36mClient.process\u001b[39m\u001b[34m(self, file_path, accuracy, wait_time, timeout, **kwargs)\u001b[39m\n\u001b[32m     64\u001b[39m     response = requests.post(\n\u001b[32m     65\u001b[39m         upload_url,\n\u001b[32m     66\u001b[39m         files=files,\n\u001b[32m     67\u001b[39m         headers=\u001b[38;5;28mself\u001b[39m.headers,\n\u001b[32m     68\u001b[39m         data=request_data\n\u001b[32m     69\u001b[39m     )\n\u001b[32m     71\u001b[39m \u001b[38;5;28;01mif\u001b[39;00m response.status_code != \u001b[32m200\u001b[39m:\n\u001b[32m---> \u001b[39m\u001b[32m72\u001b[39m     \u001b[38;5;28;01mraise\u001b[39;00m DoctlyError(\u001b[33mf\u001b[39m\u001b[33m\"\u001b[39m\u001b[33mError uploading file: \u001b[39m\u001b[38;5;132;01m{\u001b[39;00mresponse.text\u001b[38;5;132;01m}\u001b[39;00m\u001b[33m\"\u001b[39m)\n\u001b[32m     74\u001b[39m \u001b[38;5;66;03m# The API returns a list of DocumentPublic objects\u001b[39;00m\n\u001b[32m     75\u001b[39m documents = response.json()\n",
      "\u001b[31mDoctlyError\u001b[39m: Error uploading file: {\"detail\":\"Could not validate credentials\"}"
     ]
    }
   ],
   "source": [
    "# Initialize the client with your API key\n",
    "client = doctly.Client(api_key=DOCTLY_API_KEY)\n",
    "\n",
    "# Convert a PDF file to Markdown\n",
    "content = client.process('../papers/cot/ReasonfromFuture-ReverseThoughtChainEnhancesLLMReasoning2506.03673v1.pdf')\n",
    "print(content)"
   ]
  },
  {
   "cell_type": "code",
   "execution_count": null,
   "id": "80628a31",
   "metadata": {},
   "outputs": [],
   "source": []
  },
  {
   "cell_type": "code",
   "execution_count": null,
   "id": "65dfd0da",
   "metadata": {},
   "outputs": [],
   "source": []
  },
  {
   "cell_type": "code",
   "execution_count": null,
   "id": "a3d128fc",
   "metadata": {},
   "outputs": [],
   "source": []
  }
 ],
 "metadata": {
  "kernelspec": {
   "display_name": "Papers",
   "language": "python",
   "name": "papers"
  },
  "language_info": {
   "codemirror_mode": {
    "name": "ipython",
    "version": 3
   },
   "file_extension": ".py",
   "mimetype": "text/x-python",
   "name": "python",
   "nbconvert_exporter": "python",
   "pygments_lexer": "ipython3",
   "version": "3.13.2"
  }
 },
 "nbformat": 4,
 "nbformat_minor": 5
}
