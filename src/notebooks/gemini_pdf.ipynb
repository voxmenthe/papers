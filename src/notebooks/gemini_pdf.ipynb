{
 "cells": [
  {
   "cell_type": "code",
   "execution_count": 1,
   "metadata": {
    "cellUniqueIdByVincent": "9e4be"
   },
   "outputs": [],
   "source": [
    "from google import genai\n",
    "from google.genai import types\n",
    "import pathlib\n",
    "import httpx\n",
    "import os\n",
    "from pypdf import PdfReader, PdfWriter\n",
    "from io import BytesIO\n",
    "\n",
    "# load GEMINI_API_KEY from .env file\n",
    "GEMINI_API_KEY = os.getenv('GEMINI_API_KEY')"
   ]
  },
  {
   "cell_type": "code",
   "execution_count": 2,
   "metadata": {
    "cellUniqueIdByVincent": "234b9"
   },
   "outputs": [],
   "source": [
    "#!ls ../papers/cot/\n",
    "#!ls -lt /Volumes/bdrive/AA_TO_UPLOAD/"
   ]
  },
  {
   "cell_type": "code",
   "execution_count": 3,
   "metadata": {
    "cellUniqueIdByVincent": "71842"
   },
   "outputs": [],
   "source": [
    "\n",
    "client = genai.Client(api_key=GEMINI_API_KEY)\n",
    "\n",
    "# doc_url = \"https://discovery.ucl.ac.uk/id/eprint/10089234/1/343019_3_art_0_py4t4l_convrt.pdf\"\n",
    "\n",
    "# # Retrieve and encode the PDF byte\n",
    "# filepath = pathlib.Path('file.pdf')\n",
    "# filepath.write_bytes(httpx.get(doc_url).content)"
   ]
  },
  {
   "cell_type": "code",
   "execution_count": 10,
   "metadata": {
    "cellUniqueIdByVincent": "9d869"
   },
   "outputs": [
    {
     "name": "stdout",
     "output_type": "stream",
     "text": [
      "Reason from Future: Reverse Thought Chain Enhances LLM Reasoning\n",
      "Yinlong Xu¹, Yanzhao Zheng², Shuoshuo Sun²,\n",
      "Shuaihan Huang², Baohua Dong², Hangcheng Zhu², Ruohui Huang², Gang Yu², Hongxia Xu³,⁴*, Jian Wu¹,⁵*\n",
      "¹ College of Computer Science and Technology, Zhejiang University, Hangzhou, China\n",
      "² Alibaba Group, Hangzhou, China\n",
      "³ State Key Laboratory of Transvascular Implantation Devices and TIDRI, Hangzhou, 310009, China\n",
      "⁴ Liangzhu Laboratory and WeDoctor Cloud, Hangzhou, 310000, China\n",
      "⁵ Zhejiang Key Laboratory of Medical Imaging Artificial Intelligence, Hangzhou, 310058, China\n",
      "{xuyinlong, Einstein, Wujian2000}@zju.edu.cn huangshuaihan@outlook.com\n",
      "{zhengyanzhao.zyz, sunshuoshuo.sss, baohua.dbh, linran.lr09, wentong, ruohai}@taobao.com\n",
      "\n",
      "**Abstract**\n",
      "It has been demonstrated that carefully de-signed reasoning paradigms, like Chain-of-Thought (CoT) and Tree-of-Thought (ToT), can enhance the reasoning capabilities of small language models by detailed thinking and extensive thought searching, u\n"
     ]
    }
   ],
   "source": [
    "# 1. read the original PDF\n",
    "reader = PdfReader(\"../papers/cot/ReasonfromFuture-ReverseThoughtChainEnhancesLLMReasoning2506.03673v1.pdf\")\n",
    "\n",
    "# 2. pick the pages you want (zero-based indices)\n",
    "pages_to_send = [0, 1]   # e.g. pages 1, 2 and 3\n",
    "pages_to_send = [i for i, page in enumerate(reader.pages)]\n",
    "\n",
    "writer = PdfWriter()\n",
    "for idx in pages_to_send:\n",
    "    writer.add_page(reader.pages[idx])\n",
    "\n",
    "# 3. write them to a bytes buffer\n",
    "buf = BytesIO()\n",
    "writer.write(buf)\n",
    "buf.seek(0)\n",
    "subset_pdf_bytes = buf.read()\n",
    "\n",
    "# 4. call Gemini with only that subset\n",
    "client = genai.Client(api_key=GEMINI_API_KEY)\n",
    "prompt = \"Extract the full text of this document with figure/table descriptions. Render the text in markdown format, makeing sure to use LaTeX for equations. Also render any mathematical variables or expressions that are present in the text using inline LaTeX. Pay close attention to proper LaTeX formatting including bracket nesting, and understanding the difference between what is mathematical notation, and what is a text string within an equation. Make sure the latex snippets are properly enclosed using dollar signs so that both the inline LaTex and standalone equations are rendered correctly in markdown. Anything enclosed with $$ is a standalone equation, and anything enclosed with $ is an inline equation. Include full descriptions of any figures and tables in the appropriate places.\"\n",
    "\n",
    "response = client.models.generate_content(\n",
    "    model=\"gemini-2.5-flash-preview-05-20\",\n",
    "    contents=[\n",
    "      types.Part.from_bytes(data=subset_pdf_bytes,\n",
    "                            mime_type=\"application/pdf\"),\n",
    "      prompt\n",
    "    ]\n",
    ")\n",
    "\n",
    "print(response.text[:1000])"
   ]
  },
  {
   "cell_type": "code",
   "execution_count": 11,
   "metadata": {},
   "outputs": [],
   "source": [
    "with open(\"../papers/cot/ReasonfromFuture-ReverseThoughtChainEnhancesLLMReasoning2506.03673v1.md\", \"w\") as f:\n",
    "    f.write(response.text)"
   ]
  },
  {
   "cell_type": "code",
   "execution_count": null,
   "metadata": {
    "cellUniqueIdByVincent": "327d8"
   },
   "outputs": [],
   "source": [
    "filepath = pathlib.Path('../papers/reasoning/202501/DeepSeek_R1.pdf')\n",
    "prompt = \"Extract the full text of the document including detailed descriptions of the figures and tables.\"\n",
    "response = client.models.generate_content(\n",
    "  model=\"gemini-2.0-flash\",\n",
    "  contents=[\n",
    "      types.Part.from_bytes(\n",
    "        data=filepath.read_bytes(),\n",
    "        mime_type='application/pdf',\n",
    "      ),\n",
    "      prompt])\n",
    "print(response.text)"
   ]
  },
  {
   "cell_type": "code",
   "execution_count": null,
   "metadata": {
    "cellUniqueIdByVincent": "f4aef"
   },
   "outputs": [],
   "source": []
  },
  {
   "cell_type": "code",
   "execution_count": null,
   "metadata": {
    "cellUniqueIdByVincent": "3df80"
   },
   "outputs": [],
   "source": []
  },
  {
   "cell_type": "code",
   "execution_count": 8,
   "metadata": {
    "cellUniqueIdByVincent": "1d46d"
   },
   "outputs": [
    {
     "name": "stdout",
     "output_type": "stream",
     "text": [
      "[NbConvertApp] Converting notebook gemini_pdf.ipynb to python\n",
      "[NbConvertApp] Writing 2632 bytes to gemini_pdf.py\n"
     ]
    }
   ],
   "source": [
    "!jupyter nbconvert gemini_pdf.ipynb \\\n",
    "  --to python \\\n",
    "  --TemplateExporter.exclude_output=True \\\n",
    "  --TemplateExporter.exclude_input_prompt=True"
   ]
  },
  {
   "cell_type": "code",
   "execution_count": null,
   "metadata": {
    "cellUniqueIdByVincent": "32004"
   },
   "outputs": [],
   "source": []
  }
 ],
 "metadata": {
  "kernelspec": {
   "display_name": "Papers",
   "language": "python",
   "name": "papers"
  },
  "language_info": {
   "codemirror_mode": {
    "name": "ipython",
    "version": 3
   },
   "file_extension": ".py",
   "mimetype": "text/x-python",
   "name": "python",
   "nbconvert_exporter": "python",
   "pygments_lexer": "ipython3",
   "version": "3.13.2"
  },
  "vincent": {
   "sessionId": "9b5ea91452a51db6127482c4_2025-06-08T06-27-56-223Z"
  }
 },
 "nbformat": 4,
 "nbformat_minor": 2
}
